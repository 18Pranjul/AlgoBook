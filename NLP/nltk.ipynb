{
  "nbformat": 4,
  "nbformat_minor": 0,
  "metadata": {
    "colab": {
      "name": "nltk.ipynb",
      "private_outputs": true,
      "provenance": []
    },
    "kernelspec": {
      "name": "python3",
      "display_name": "Python 3"
    },
    "accelerator": "GPU"
  },
  "cells": [
    {
      "cell_type": "code",
      "metadata": {
        "id": "S0HcSFBPQ_aE"
      },
      "source": [
        "\r\n",
        "\r\n",
        "\r\n",
        "#importing all the libraries\r\n",
        "\r\n",
        "import nltk\r\n",
        "from nltk.corpus import stopwords\r\n",
        "from nltk.tokenize import word_tokenize, sent_tokenize\r\n",
        "import nltk\r\n",
        "nltk.download('stopwords')\r\n",
        "nltk.download('punkt')\r\n",
        "\r\n",
        "\r\n",
        "\r\n"
      ],
      "execution_count": null,
      "outputs": []
    },
    {
      "cell_type": "code",
      "metadata": {
        "id": "kO3JSLiORN8_"
      },
      "source": [
        "def genrateSum(text):\r\n",
        "\r\n",
        "\r\n",
        "\r\n",
        "#tokenizing the text\r\n",
        "\r\n",
        "  stopWords = set(stopwords.words(\"english\"))\r\n",
        "  words = nltk.word_tokenize(text)\r\n",
        "\r\n",
        "#frequency table for score of each word\r\n",
        "\r\n",
        "  freqTable = dict()\r\n",
        "  for word in words:\r\n",
        "    word = word.lower()\r\n",
        "    if word in stopWords:\r\n",
        "\t    continue\r\n",
        "    if word in freqTable:\r\n",
        "        freqTable[word] +=1\r\n",
        "    else:\r\n",
        "        freqTable[word] =1\r\n",
        "\r\n",
        "\r\n",
        "\r\n",
        "#score of each sentence\r\n",
        "\r\n",
        "  sentences = sent_tokenize(text)\r\n",
        "  sentenceValue = dict()\r\n",
        "\r\n",
        "  for sentence in sentences:\r\n",
        "    for word, freq in freqTable.items():\r\n",
        "        if word in sentence.lower():\r\n",
        "           if sentence in sentenceValue:\r\n",
        "               sentenceValue[sentence] += freq\r\n",
        "           else:\r\n",
        "               sentenceValue[sentence] = freq\r\n",
        "\r\n",
        "\r\n",
        "  sumValues = 0\r\n",
        "  for sentence in sentenceValue:\r\n",
        "    sumValues += sentenceValue[sentence]\r\n",
        "\r\n",
        "\r\n",
        "\r\n",
        "  #average value\r\n",
        "\r\n",
        "  average = int(sumValues/len(sentenceValue))\r\n",
        "\r\n",
        "\r\n",
        "\r\n",
        "  #storing sentence in the summary\r\n",
        "  summary = ''\r\n",
        "  for sentence in sentences:\r\n",
        "    if (sentence in sentenceValue) and (sentenceValue[sentence] > (1.2*average)):\r\n",
        "\t     summary += \" \" + sentence\r\n",
        "\r\n",
        "  return summary\r\n",
        "\r\n",
        "  \r\n",
        "\r\n"
      ],
      "execution_count": null,
      "outputs": []
    },
    {
      "cell_type": "code",
      "metadata": {
        "id": "iwUUvAbGSOK6"
      },
      "source": [
        "summary=genrateSum(\"Human-made sources of air pollution are releases from industries, agriculture, power plants, automobiles, domestic causes, etc. Some of the air pollutants from the man-made sources are like smokes from chimneys, dust while construction, particulate matters, domestic heating, eruptions from different vehicles, usage of insecticides, pesticides, herbicides, the heat produced from power plants, fly ash, etc.Because of the growing number of air pollutants, they are divided into two types, such as primary pollutants and secondary pollutants. Primary pollutants are those attacking the fresh air directly and released from smoke, ash, dust, fumes, mist, spray, inorganic gases, carbon dioxide, ammonia, nitric oxide, carbon monoxide, sulfur dioxide, hydrogen sulfide, and radioactive compounds. Secondary pollutants are those influencing the air indirectly by biochemical interactions to the principal pollutants and other atmospheric constituents such as sulfur-trioxide, ozone, hydrocarbons, nitrogen dioxide\")\r\n",
        "print (summary)"
      ],
      "execution_count": null,
      "outputs": []
    }
  ]
}