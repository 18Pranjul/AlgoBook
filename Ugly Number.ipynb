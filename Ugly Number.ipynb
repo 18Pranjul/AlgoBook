{
 "cells": [
  {
   "cell_type": "code",
   "execution_count": 1,
   "metadata": {},
   "outputs": [],
   "source": [
    "#Program to check whether a number is an UGLY NUMBER"
   ]
  },
  {
   "cell_type": "code",
   "execution_count": 47,
   "metadata": {},
   "outputs": [
    {
     "name": "stdout",
     "output_type": "stream",
     "text": [
      "Enter the number13\n",
      "13  is not an Ugly Number\n"
     ]
    }
   ],
   "source": [
    "def ugly_num(num):\n",
    "    \n",
    "    while num != 1:\n",
    "\n",
    "        if num % 2 == 0:\n",
    "            num//=2\n",
    "        elif num % 3 == 0:\n",
    "            num//=3\n",
    "        elif num % 5 == 0:\n",
    "            num//=5\n",
    "        else:\n",
    "            return num\n",
    "    return num\n",
    "    \n",
    "num = int(input(\"Enter the number\"))\n",
    "m=num\n",
    "\n",
    "if (ugly_num(num) == 1):\n",
    "    print(m,\" is an Ugly Number\")\n",
    "else:\n",
    "    print(num,\" is not an Ugly Number\")\n"
   ]
  },
  {
   "cell_type": "code",
   "execution_count": null,
   "metadata": {},
   "outputs": [],
   "source": [
    "# Program to print first N UGLY NUMBERS"
   ]
  },
  {
   "cell_type": "code",
   "execution_count": 40,
   "metadata": {},
   "outputs": [
    {
     "name": "stdout",
     "output_type": "stream",
     "text": [
      "Enter the number11\n",
      "1\n",
      "2\n",
      "3\n",
      "4\n",
      "5\n",
      "6\n",
      "8\n",
      "9\n",
      "10\n",
      "12\n",
      "15\n"
     ]
    }
   ],
   "source": [
    "def ugly_num(num):\n",
    "    \n",
    "    while num != 1:\n",
    "\n",
    "        if num % 2 == 0:\n",
    "            num//=2\n",
    "        elif num % 3 == 0:\n",
    "            num//=3\n",
    "        elif num % 5 == 0:\n",
    "            num//=5\n",
    "        else:\n",
    "            return num\n",
    "    return num\n",
    "\n",
    "N = int(input(\"Enter the number\"))\n",
    "list = []\n",
    "i=1\n",
    "num=1\n",
    "while N >= i:\n",
    "    if (ugly_num(num) == 1):\n",
    "        list.append(num)\n",
    "        i+=1\n",
    "    num+=1\n",
    "    \n",
    "for i in range(len(list)):\n",
    "    print(list[i])\n",
    "        \n",
    "\n"
   ]
  },
  {
   "cell_type": "code",
   "execution_count": 41,
   "metadata": {},
   "outputs": [],
   "source": [
    "# Program to print the Nth UGLY NUMBER"
   ]
  },
  {
   "cell_type": "code",
   "execution_count": 55,
   "metadata": {},
   "outputs": [
    {
     "name": "stdout",
     "output_type": "stream",
     "text": [
      "Enter the Nth Ugly Number to be displayed10\n",
      "12\n"
     ]
    }
   ],
   "source": [
    "def ugly_num(num):\n",
    "    \n",
    "    while num != 1:\n",
    "\n",
    "        if num % 2 == 0:\n",
    "            num//=2\n",
    "        elif num % 3 == 0:\n",
    "            num//=3\n",
    "        elif num % 5 == 0:\n",
    "            num//=5\n",
    "        else:\n",
    "            return num\n",
    "    return num\n",
    "\n",
    "N = int(input(\"Enter the Nth Ugly Number to be displayed\"))\n",
    "\n",
    "i=0\n",
    "num=1\n",
    "while N != i:\n",
    "    if (ugly_num(num) == 1):\n",
    "        i+=1\n",
    "        m=num\n",
    "    num+=1\n",
    "    \n",
    "print(m)\n",
    "        "
   ]
  },
  {
   "cell_type": "code",
   "execution_count": null,
   "metadata": {},
   "outputs": [],
   "source": []
  },
  {
   "cell_type": "code",
   "execution_count": null,
   "metadata": {},
   "outputs": [],
   "source": []
  }
 ],
 "metadata": {
  "kernelspec": {
   "display_name": "Python 3",
   "language": "python",
   "name": "python3"
  },
  "language_info": {
   "codemirror_mode": {
    "name": "ipython",
    "version": 3
   },
   "file_extension": ".py",
   "mimetype": "text/x-python",
   "name": "python",
   "nbconvert_exporter": "python",
   "pygments_lexer": "ipython3",
   "version": "3.7.4"
  }
 },
 "nbformat": 4,
 "nbformat_minor": 2
}
