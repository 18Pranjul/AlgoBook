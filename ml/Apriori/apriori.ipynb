{
 "metadata": {
  "language_info": {
   "codemirror_mode": {
    "name": "ipython",
    "version": 3
   },
   "file_extension": ".py",
   "mimetype": "text/x-python",
   "name": "python",
   "nbconvert_exporter": "python",
   "pygments_lexer": "ipython3",
   "version": "3.8.5-final"
  },
  "orig_nbformat": 2,
  "kernelspec": {
   "name": "Python 3.8.5 64-bit",
   "display_name": "Python 3.8.5 64-bit",
   "metadata": {
    "interpreter": {
     "hash": "767d51c1340bd893661ea55ea3124f6de3c7a262a8b4abca0554b478b1e2ff90"
    }
   }
  }
 },
 "nbformat": 4,
 "nbformat_minor": 2,
 "cells": [
  {
   "cell_type": "code",
   "execution_count": 5,
   "metadata": {
    "tags": []
   },
   "outputs": [
    {
     "output_type": "stream",
     "name": "stdout",
     "text": "Defaulting to user installation because normal site-packages is not writeable\nRequirement already satisfied: numpy in /home/rahul/.local/lib/python3.8/site-packages (1.19.2)\nRequirement already satisfied: pandas in /home/rahul/.local/lib/python3.8/site-packages (1.1.2)\nRequirement already satisfied: mlxtend in /home/rahul/.local/lib/python3.8/site-packages (0.17.3)\nCollecting xlrd\n  Downloading xlrd-1.2.0-py2.py3-none-any.whl (103 kB)\n\u001b[K     |████████████████████████████████| 103 kB 4.9 MB/s \n\u001b[?25hRequirement already satisfied: python-dateutil&gt;=2.7.3 in /home/rahul/.local/lib/python3.8/site-packages (from pandas) (2.8.1)\nRequirement already satisfied: pytz&gt;=2017.2 in /usr/lib/python3.8/site-packages (from pandas) (2020.1)\nRequirement already satisfied: joblib&gt;=0.13.2 in /home/rahul/.local/lib/python3.8/site-packages (from mlxtend) (0.17.0)\nRequirement already satisfied: setuptools in /usr/lib/python3.8/site-packages (from mlxtend) (50.3.0)\nRequirement already satisfied: matplotlib&gt;=3.0.0 in /home/rahul/.local/lib/python3.8/site-packages (from mlxtend) (3.3.2)\nRequirement already satisfied: scikit-learn&gt;=0.20.3 in /home/rahul/.local/lib/python3.8/site-packages (from mlxtend) (0.23.2)\nRequirement already satisfied: scipy&gt;=1.2.1 in /home/rahul/.local/lib/python3.8/site-packages (from mlxtend) (1.5.2)\nRequirement already satisfied: six&gt;=1.5 in /usr/lib/python3.8/site-packages (from python-dateutil&gt;=2.7.3-&gt;pandas) (1.15.0)\nRequirement already satisfied: certifi&gt;=2020.06.20 in /home/rahul/.local/lib/python3.8/site-packages (from matplotlib&gt;=3.0.0-&gt;mlxtend) (2020.6.20)\nRequirement already satisfied: kiwisolver&gt;=1.0.1 in /home/rahul/.local/lib/python3.8/site-packages (from matplotlib&gt;=3.0.0-&gt;mlxtend) (1.2.0)\nRequirement already satisfied: pyparsing!=2.0.4,!=2.1.2,!=2.1.6,&gt;=2.0.3 in /usr/lib/python3.8/site-packages (from matplotlib&gt;=3.0.0-&gt;mlxtend) (2.4.7)\nRequirement already satisfied: cycler&gt;=0.10 in /home/rahul/.local/lib/python3.8/site-packages (from matplotlib&gt;=3.0.0-&gt;mlxtend) (0.10.0)\nRequirement already satisfied: pillow&gt;=6.2.0 in /usr/lib/python3.8/site-packages (from matplotlib&gt;=3.0.0-&gt;mlxtend) (7.2.0)\nRequirement already satisfied: threadpoolctl&gt;=2.0.0 in /home/rahul/.local/lib/python3.8/site-packages (from scikit-learn&gt;=0.20.3-&gt;mlxtend) (2.1.0)\nInstalling collected packages: xlrd\nSuccessfully installed xlrd-1.2.0\n"
    }
   ],
   "source": [
    "! pip install numpy pandas mlxtend xlrd"
   ]
  },
  {
   "source": [
    "## Download the required libraries numpy , pandas , mlxtend (for apriori algorithm)"
   ],
   "cell_type": "markdown",
   "metadata": {}
  },
  {
   "cell_type": "code",
   "execution_count": 1,
   "metadata": {},
   "outputs": [],
   "source": [
    "import numpy as np\n",
    "import pandas as pd\n",
    "from mlxtend.frequent_patterns import apriori , association_rules"
   ]
  },
  {
   "source": [
    "***Reading the data from dataset***"
   ],
   "cell_type": "markdown",
   "metadata": {}
  },
  {
   "cell_type": "code",
   "execution_count": 2,
   "metadata": {},
   "outputs": [],
   "source": [
    "data = pd.read_excel(\"Online Retail.xlsx\")"
   ]
  },
  {
   "cell_type": "code",
   "execution_count": 3,
   "metadata": {},
   "outputs": [
    {
     "output_type": "execute_result",
     "data": {
      "text/plain": "  InvoiceNo StockCode                          Description  Quantity  \\\n0    536365    85123A   WHITE HANGING HEART T-LIGHT HOLDER         6   \n1    536365     71053                  WHITE METAL LANTERN         6   \n2    536365    84406B       CREAM CUPID HEARTS COAT HANGER         8   \n3    536365    84029G  KNITTED UNION FLAG HOT WATER BOTTLE         6   \n4    536365    84029E       RED WOOLLY HOTTIE WHITE HEART.         6   \n\n          InvoiceDate  UnitPrice  CustomerID         Country  \n0 2010-12-01 08:26:00       2.55     17850.0  United Kingdom  \n1 2010-12-01 08:26:00       3.39     17850.0  United Kingdom  \n2 2010-12-01 08:26:00       2.75     17850.0  United Kingdom  \n3 2010-12-01 08:26:00       3.39     17850.0  United Kingdom  \n4 2010-12-01 08:26:00       3.39     17850.0  United Kingdom  ",
      "text/html": "<div>\n<style scoped>\n    .dataframe tbody tr th:only-of-type {\n        vertical-align: middle;\n    }\n\n    .dataframe tbody tr th {\n        vertical-align: top;\n    }\n\n    .dataframe thead th {\n        text-align: right;\n    }\n</style>\n<table border=\"1\" class=\"dataframe\">\n  <thead>\n    <tr style=\"text-align: right;\">\n      <th></th>\n      <th>InvoiceNo</th>\n      <th>StockCode</th>\n      <th>Description</th>\n      <th>Quantity</th>\n      <th>InvoiceDate</th>\n      <th>UnitPrice</th>\n      <th>CustomerID</th>\n      <th>Country</th>\n    </tr>\n  </thead>\n  <tbody>\n    <tr>\n      <th>0</th>\n      <td>536365</td>\n      <td>85123A</td>\n      <td>WHITE HANGING HEART T-LIGHT HOLDER</td>\n      <td>6</td>\n      <td>2010-12-01 08:26:00</td>\n      <td>2.55</td>\n      <td>17850.0</td>\n      <td>United Kingdom</td>\n    </tr>\n    <tr>\n      <th>1</th>\n      <td>536365</td>\n      <td>71053</td>\n      <td>WHITE METAL LANTERN</td>\n      <td>6</td>\n      <td>2010-12-01 08:26:00</td>\n      <td>3.39</td>\n      <td>17850.0</td>\n      <td>United Kingdom</td>\n    </tr>\n    <tr>\n      <th>2</th>\n      <td>536365</td>\n      <td>84406B</td>\n      <td>CREAM CUPID HEARTS COAT HANGER</td>\n      <td>8</td>\n      <td>2010-12-01 08:26:00</td>\n      <td>2.75</td>\n      <td>17850.0</td>\n      <td>United Kingdom</td>\n    </tr>\n    <tr>\n      <th>3</th>\n      <td>536365</td>\n      <td>84029G</td>\n      <td>KNITTED UNION FLAG HOT WATER BOTTLE</td>\n      <td>6</td>\n      <td>2010-12-01 08:26:00</td>\n      <td>3.39</td>\n      <td>17850.0</td>\n      <td>United Kingdom</td>\n    </tr>\n    <tr>\n      <th>4</th>\n      <td>536365</td>\n      <td>84029E</td>\n      <td>RED WOOLLY HOTTIE WHITE HEART.</td>\n      <td>6</td>\n      <td>2010-12-01 08:26:00</td>\n      <td>3.39</td>\n      <td>17850.0</td>\n      <td>United Kingdom</td>\n    </tr>\n  </tbody>\n</table>\n</div>"
     },
     "metadata": {},
     "execution_count": 3
    }
   ],
   "source": [
    "data.head() # this would show first 5 rows of data"
   ]
  },
  {
   "cell_type": "code",
   "execution_count": 4,
   "metadata": {},
   "outputs": [
    {
     "output_type": "execute_result",
     "data": {
      "text/plain": "Index([&#39;InvoiceNo&#39;, &#39;StockCode&#39;, &#39;Description&#39;, &#39;Quantity&#39;, &#39;InvoiceDate&#39;,\n       &#39;UnitPrice&#39;, &#39;CustomerID&#39;, &#39;Country&#39;],\n      dtype=&#39;object&#39;)"
     },
     "metadata": {},
     "execution_count": 4
    }
   ],
   "source": [
    "data.columns # getting columns of the dataset"
   ]
  },
  {
   "source": [
    "## Cleaning Data"
   ],
   "cell_type": "markdown",
   "metadata": {}
  },
  {
   "cell_type": "code",
   "execution_count": 5,
   "metadata": {},
   "outputs": [],
   "source": [
    "data['Description'] = data['Description'].str.strip()"
   ]
  },
  {
   "cell_type": "code",
   "execution_count": 6,
   "metadata": {},
   "outputs": [
    {
     "output_type": "execute_result",
     "data": {
      "text/plain": "0     WHITE HANGING HEART T-LIGHT HOLDER\n1                    WHITE METAL LANTERN\n2         CREAM CUPID HEARTS COAT HANGER\n3    KNITTED UNION FLAG HOT WATER BOTTLE\n4         RED WOOLLY HOTTIE WHITE HEART.\nName: Description, dtype: object"
     },
     "metadata": {},
     "execution_count": 6
    }
   ],
   "source": [
    "data['Description'].head()"
   ]
  },
  {
   "cell_type": "code",
   "execution_count": 7,
   "metadata": {},
   "outputs": [],
   "source": [
    "data.dropna(axis=0, subset=['InvoiceNo'], inplace=True)\n",
    "data['InvoiceNo'] = data['InvoiceNo'].astype('str')"
   ]
  },
  {
   "cell_type": "code",
   "execution_count": 8,
   "metadata": {},
   "outputs": [],
   "source": [
    "basket_France = (data[data['Country'] ==\"France\"] \n",
    "          .groupby(['InvoiceNo', 'Description'])['Quantity'] \n",
    "          .sum().unstack().reset_index().fillna(0) \n",
    "          .set_index('InvoiceNo')) \n",
    "  \n",
    "# Transactions done in the United Kingdom \n",
    "basket_UK = (data[data['Country'] ==\"United Kingdom\"] \n",
    "          .groupby(['InvoiceNo', 'Description'])['Quantity'] \n",
    "          .sum().unstack().reset_index().fillna(0) \n",
    "          .set_index('InvoiceNo')) \n",
    "  \n",
    "# Transactions done in Portugal \n",
    "basket_Por = (data[data['Country'] ==\"Portugal\"] \n",
    "          .groupby(['InvoiceNo', 'Description'])['Quantity'] \n",
    "          .sum().unstack().reset_index().fillna(0) \n",
    "          .set_index('InvoiceNo')) \n",
    "  \n",
    "basket_Sweden = (data[data['Country'] ==\"Sweden\"] \n",
    "          .groupby(['InvoiceNo', 'Description'])['Quantity'] \n",
    "          .sum().unstack().reset_index().fillna(0) \n",
    "          .set_index('InvoiceNo'))"
   ]
  },
  {
   "cell_type": "code",
   "execution_count": 9,
   "metadata": {},
   "outputs": [],
   "source": [
    "def hot_encode(x): \n",
    "    if(x<= 0): \n",
    "        return 0\n",
    "    if(x>= 1): \n",
    "        return 1\n",
    "  \n",
    "# Encoding the datasets \n",
    "basket_encoded = basket_France.applymap(hot_encode) \n",
    "basket_France = basket_encoded \n",
    "  \n",
    "basket_encoded = basket_UK.applymap(hot_encode) \n",
    "basket_UK = basket_encoded \n",
    "  \n",
    "basket_encoded = basket_Por.applymap(hot_encode) \n",
    "basket_Por = basket_encoded \n",
    "  \n",
    "basket_encoded = basket_Sweden.applymap(hot_encode) \n",
    "basket_Sweden = basket_encoded "
   ]
  },
  {
   "cell_type": "code",
   "execution_count": 10,
   "metadata": {
    "tags": []
   },
   "outputs": [
    {
     "output_type": "stream",
     "name": "stdout",
     "text": "                                           antecedents  \\\n24                        (JUMBO BAG WOODLAND ANIMALS)   \n186  (SET/20 RED RETROSPOT PAPER NAPKINS, SET/6 RED...   \n184  (SET/20 RED RETROSPOT PAPER NAPKINS, SET/6 RED...   \n192  (SET/20 RED RETROSPOT PAPER NAPKINS, POSTAGE, ...   \n190  (SET/6 RED SPOTTY PAPER PLATES, SET/20 RED RET...   \n\n                         consequents  antecedent support  consequent support  \\\n24                         (POSTAGE)            0.065076            0.650759   \n186  (SET/6 RED SPOTTY PAPER PLATES)            0.086768            0.108460   \n184    (SET/6 RED SPOTTY PAPER CUPS)            0.086768            0.117137   \n192  (SET/6 RED SPOTTY PAPER PLATES)            0.071584            0.108460   \n190    (SET/6 RED SPOTTY PAPER CUPS)            0.071584            0.117137   \n\n      support  confidence      lift  leverage  conviction  \n24   0.065076    1.000000  1.536667  0.022727         inf  \n186  0.084599    0.975000  8.989500  0.075188   35.661605  \n184  0.084599    0.975000  8.323611  0.074435   35.314534  \n192  0.069414    0.969697  8.940606  0.061650   29.420824  \n190  0.069414    0.969697  8.278339  0.061029   29.134490  \n"
    }
   ],
   "source": [
    "frq_items = apriori(basket_France, min_support = 0.05, use_colnames = True) \n",
    "  \n",
    "# Collecting the inferred rules in a dataframe \n",
    "rules = association_rules(frq_items, metric =\"lift\", min_threshold = 1) \n",
    "rules = rules.sort_values(['confidence', 'lift'], ascending =[False, False]) \n",
    "print(rules.head())"
   ]
  },
  {
   "cell_type": "code",
   "execution_count": 11,
   "metadata": {
    "tags": []
   },
   "outputs": [
    {
     "output_type": "stream",
     "name": "stdout",
     "text": "                         antecedents                     consequents  \\\n12         (BUBBLEGUM RING ASSORTED)     (TREASURE TIN BUFFALO BILL)   \n13       (TREASURE TIN BUFFALO BILL)       (BUBBLEGUM RING ASSORTED)   \n14    (TREASURE TIN GYMKHANA DESIGN)       (BUBBLEGUM RING ASSORTED)   \n15         (BUBBLEGUM RING ASSORTED)  (TREASURE TIN GYMKHANA DESIGN)   \n32  (MAGIC DRAWING SLATE DOLLY GIRL)    (MAGIC DRAWING SLATE PURDEY)   \n\n    antecedent support  consequent support   support  confidence       lift  \\\n12            0.065217            0.065217  0.065217         1.0  15.333333   \n13            0.065217            0.065217  0.065217         1.0  15.333333   \n14            0.065217            0.065217  0.065217         1.0  15.333333   \n15            0.065217            0.065217  0.065217         1.0  15.333333   \n32            0.065217            0.065217  0.065217         1.0  15.333333   \n\n    leverage  conviction  \n12  0.060964         inf  \n13  0.060964         inf  \n14  0.060964         inf  \n15  0.060964         inf  \n32  0.060964         inf  \n"
    }
   ],
   "source": [
    "\n",
    "frq_items = apriori(basket_Sweden, min_support = 0.05, use_colnames = True) \n",
    "rules = association_rules(frq_items, metric =\"lift\", min_threshold = 1) \n",
    "rules = rules.sort_values(['confidence', 'lift'], ascending =[False, False]) \n",
    "print(rules.head()) \n"
   ]
  },
  {
   "cell_type": "code",
   "execution_count": null,
   "metadata": {},
   "outputs": [],
   "source": []
  },
  {
   "cell_type": "code",
   "execution_count": 12,
   "metadata": {
    "tags": []
   },
   "outputs": [
    {
     "output_type": "stream",
     "name": "stdout",
     "text": "Empty DataFrame\nColumns: [antecedents, consequents, antecedent support, consequent support, support, confidence, lift, leverage, conviction]\nIndex: []\n"
    }
   ],
   "source": []
  },
  {
   "cell_type": "code",
   "execution_count": null,
   "metadata": {},
   "outputs": [],
   "source": []
  }
 ]
}