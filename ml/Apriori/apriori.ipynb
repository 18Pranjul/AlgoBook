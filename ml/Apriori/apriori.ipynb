{
 "metadata": {
  "language_info": {
   "codemirror_mode": {
    "name": "ipython",
    "version": 3
   },
   "file_extension": ".py",
   "mimetype": "text/x-python",
   "name": "python",
   "nbconvert_exporter": "python",
   "pygments_lexer": "ipython3",
   "version": "3.8.5-final"
  },
  "orig_nbformat": 2,
  "kernelspec": {
   "name": "Python 3.8.5 64-bit",
   "display_name": "Python 3.8.5 64-bit",
   "metadata": {
    "interpreter": {
     "hash": "767d51c1340bd893661ea55ea3124f6de3c7a262a8b4abca0554b478b1e2ff90"
    }
   }
  }
 },
 "nbformat": 4,
 "nbformat_minor": 2,
 "cells": [
  {
   "cell_type": "code",
   "execution_count": 5,
   "metadata": {
    "tags": []
   },
   "outputs": [
    {
     "output_type": "stream",
     "name": "stdout",
     "text": "Defaulting to user installation because normal site-packages is not writeable\nRequirement already satisfied: numpy in /home/rahul/.local/lib/python3.8/site-packages (1.19.2)\nRequirement already satisfied: pandas in /home/rahul/.local/lib/python3.8/site-packages (1.1.2)\nRequirement already satisfied: mlxtend in /home/rahul/.local/lib/python3.8/site-packages (0.17.3)\nCollecting xlrd\n  Downloading xlrd-1.2.0-py2.py3-none-any.whl (103 kB)\n\u001b[K     |████████████████████████████████| 103 kB 4.9 MB/s \n\u001b[?25hRequirement already satisfied: python-dateutil&gt;=2.7.3 in /home/rahul/.local/lib/python3.8/site-packages (from pandas) (2.8.1)\nRequirement already satisfied: pytz&gt;=2017.2 in /usr/lib/python3.8/site-packages (from pandas) (2020.1)\nRequirement already satisfied: joblib&gt;=0.13.2 in /home/rahul/.local/lib/python3.8/site-packages (from mlxtend) (0.17.0)\nRequirement already satisfied: setuptools in /usr/lib/python3.8/site-packages (from mlxtend) (50.3.0)\nRequirement already satisfied: matplotlib&gt;=3.0.0 in /home/rahul/.local/lib/python3.8/site-packages (from mlxtend) (3.3.2)\nRequirement already satisfied: scikit-learn&gt;=0.20.3 in /home/rahul/.local/lib/python3.8/site-packages (from mlxtend) (0.23.2)\nRequirement already satisfied: scipy&gt;=1.2.1 in /home/rahul/.local/lib/python3.8/site-packages (from mlxtend) (1.5.2)\nRequirement already satisfied: six&gt;=1.5 in /usr/lib/python3.8/site-packages (from python-dateutil&gt;=2.7.3-&gt;pandas) (1.15.0)\nRequirement already satisfied: certifi&gt;=2020.06.20 in /home/rahul/.local/lib/python3.8/site-packages (from matplotlib&gt;=3.0.0-&gt;mlxtend) (2020.6.20)\nRequirement already satisfied: kiwisolver&gt;=1.0.1 in /home/rahul/.local/lib/python3.8/site-packages (from matplotlib&gt;=3.0.0-&gt;mlxtend) (1.2.0)\nRequirement already satisfied: pyparsing!=2.0.4,!=2.1.2,!=2.1.6,&gt;=2.0.3 in /usr/lib/python3.8/site-packages (from matplotlib&gt;=3.0.0-&gt;mlxtend) (2.4.7)\nRequirement already satisfied: cycler&gt;=0.10 in /home/rahul/.local/lib/python3.8/site-packages (from matplotlib&gt;=3.0.0-&gt;mlxtend) (0.10.0)\nRequirement already satisfied: pillow&gt;=6.2.0 in /usr/lib/python3.8/site-packages (from matplotlib&gt;=3.0.0-&gt;mlxtend) (7.2.0)\nRequirement already satisfied: threadpoolctl&gt;=2.0.0 in /home/rahul/.local/lib/python3.8/site-packages (from scikit-learn&gt;=0.20.3-&gt;mlxtend) (2.1.0)\nInstalling collected packages: xlrd\nSuccessfully installed xlrd-1.2.0\n"
    }
   ],
   "source": [
    "! pip install numpy pandas mlxtend xlrd"
   ]
  },
  {
   "source": [
    "## Download the required libraries numpy , pandas , mlxtend (for apriori algorithm)"
   ],
   "cell_type": "markdown",
   "metadata": {}
  },
  {
   "cell_type": "code",
   "execution_count": 6,
   "metadata": {},
   "outputs": [],
   "source": [
    "import numpy as np\n",
    "import pandas as pd\n",
    "from mlxtend.frequent_patterns import apriori , association_rules"
   ]
  },
  {
   "source": [
    "***Reading the data from dataset***"
   ],
   "cell_type": "markdown",
   "metadata": {}
  },
  {
   "cell_type": "code",
   "execution_count": 7,
   "metadata": {},
   "outputs": [],
   "source": [
    "data = pd.read_excel(\"Online Retail.xlsx\")"
   ]
  },
  {
   "cell_type": "code",
   "execution_count": 9,
   "metadata": {},
   "outputs": [
    {
     "output_type": "execute_result",
     "data": {
      "text/plain": "  InvoiceNo StockCode  ... CustomerID         Country\n0    536365    85123A  ...    17850.0  United Kingdom\n1    536365     71053  ...    17850.0  United Kingdom\n2    536365    84406B  ...    17850.0  United Kingdom\n3    536365    84029G  ...    17850.0  United Kingdom\n4    536365    84029E  ...    17850.0  United Kingdom\n\n[5 rows x 8 columns]",
      "text/html": "<div>\n<style scoped>\n    .dataframe tbody tr th:only-of-type {\n        vertical-align: middle;\n    }\n\n    .dataframe tbody tr th {\n        vertical-align: top;\n    }\n\n    .dataframe thead th {\n        text-align: right;\n    }\n</style>\n<table border=\"1\" class=\"dataframe\">\n  <thead>\n    <tr style=\"text-align: right;\">\n      <th></th>\n      <th>InvoiceNo</th>\n      <th>StockCode</th>\n      <th>Description</th>\n      <th>Quantity</th>\n      <th>InvoiceDate</th>\n      <th>UnitPrice</th>\n      <th>CustomerID</th>\n      <th>Country</th>\n    </tr>\n  </thead>\n  <tbody>\n    <tr>\n      <th>0</th>\n      <td>536365</td>\n      <td>85123A</td>\n      <td>WHITE HANGING HEART T-LIGHT HOLDER</td>\n      <td>6</td>\n      <td>2010-12-01 08:26:00</td>\n      <td>2.55</td>\n      <td>17850.0</td>\n      <td>United Kingdom</td>\n    </tr>\n    <tr>\n      <th>1</th>\n      <td>536365</td>\n      <td>71053</td>\n      <td>WHITE METAL LANTERN</td>\n      <td>6</td>\n      <td>2010-12-01 08:26:00</td>\n      <td>3.39</td>\n      <td>17850.0</td>\n      <td>United Kingdom</td>\n    </tr>\n    <tr>\n      <th>2</th>\n      <td>536365</td>\n      <td>84406B</td>\n      <td>CREAM CUPID HEARTS COAT HANGER</td>\n      <td>8</td>\n      <td>2010-12-01 08:26:00</td>\n      <td>2.75</td>\n      <td>17850.0</td>\n      <td>United Kingdom</td>\n    </tr>\n    <tr>\n      <th>3</th>\n      <td>536365</td>\n      <td>84029G</td>\n      <td>KNITTED UNION FLAG HOT WATER BOTTLE</td>\n      <td>6</td>\n      <td>2010-12-01 08:26:00</td>\n      <td>3.39</td>\n      <td>17850.0</td>\n      <td>United Kingdom</td>\n    </tr>\n    <tr>\n      <th>4</th>\n      <td>536365</td>\n      <td>84029E</td>\n      <td>RED WOOLLY HOTTIE WHITE HEART.</td>\n      <td>6</td>\n      <td>2010-12-01 08:26:00</td>\n      <td>3.39</td>\n      <td>17850.0</td>\n      <td>United Kingdom</td>\n    </tr>\n  </tbody>\n</table>\n</div>"
     },
     "metadata": {},
     "execution_count": 9
    }
   ],
   "source": [
    "data.head() # this would show first 5 rows of data"
   ]
  },
  {
   "cell_type": "code",
   "execution_count": 12,
   "metadata": {},
   "outputs": [
    {
     "output_type": "execute_result",
     "data": {
      "text/plain": "Index([&#39;InvoiceNo&#39;, &#39;StockCode&#39;, &#39;Description&#39;, &#39;Quantity&#39;, &#39;InvoiceDate&#39;,\n       &#39;UnitPrice&#39;, &#39;CustomerID&#39;, &#39;Country&#39;],\n      dtype=&#39;object&#39;)"
     },
     "metadata": {},
     "execution_count": 12
    }
   ],
   "source": [
    "data.columns # getting columns of the dataset"
   ]
  },
  {
   "source": [
    "## Cleaning Data"
   ],
   "cell_type": "markdown",
   "metadata": {}
  },
  {
   "cell_type": "code",
   "execution_count": 15,
   "metadata": {},
   "outputs": [],
   "source": [
    "data['Description'] = data['Description'].str.strip()"
   ]
  },
  {
   "cell_type": "code",
   "execution_count": 16,
   "metadata": {},
   "outputs": [
    {
     "output_type": "execute_result",
     "data": {
      "text/plain": "0     WHITE HANGING HEART T-LIGHT HOLDER\n1                    WHITE METAL LANTERN\n2         CREAM CUPID HEARTS COAT HANGER\n3    KNITTED UNION FLAG HOT WATER BOTTLE\n4         RED WOOLLY HOTTIE WHITE HEART.\nName: Description, dtype: object"
     },
     "metadata": {},
     "execution_count": 16
    }
   ],
   "source": [
    "data['Description'].head()"
   ]
  },
  {
   "cell_type": "code",
   "execution_count": 18,
   "metadata": {},
   "outputs": [],
   "source": [
    "data.dropna(axis=0, subset=['InvoiceNo'], inplace=True)\n",
    "data['InvoiceNo'] = data['InvoiceNo'].astype('str')"
   ]
  },
  {
   "cell_type": "code",
   "execution_count": null,
   "metadata": {},
   "outputs": [],
   "source": []
  }
 ]
}