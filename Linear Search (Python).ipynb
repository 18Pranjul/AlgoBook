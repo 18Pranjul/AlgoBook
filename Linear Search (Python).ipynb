{
 "cells": [
  {
   "cell_type": "code",
   "execution_count": 3,
   "metadata": {},
   "outputs": [
    {
     "name": "stdout",
     "output_type": "stream",
     "text": [
      "Enter the number of elements10\n",
      "Enter the elements in the list\n",
      "1\n",
      "2\n",
      "3\n",
      "4\n",
      "5\n",
      "6\n",
      "7\n",
      "8\n",
      "9\n",
      "10\n",
      "Enter the elemnt to be searched11\n",
      "Element not found\n"
     ]
    }
   ],
   "source": [
    "list=[]\n",
    "flag = 0\n",
    "\n",
    "number_of_elements = int(input(\"Enter the number of elements\"))\n",
    "print(\"Enter the elements in the list\")\n",
    "\n",
    "for i in range(number_of_elements):\n",
    "    list.append(int(input()))\n",
    "\n",
    "n=int(input(\"Enter the elemnt to be searched\"))\n",
    "\n",
    "for i in range(number_of_elements):\n",
    "    if n == list[i]:\n",
    "        flag = 1\n",
    "        break\n",
    "        \n",
    "if(flag):\n",
    "    print(\"Element found\")\n",
    "else:\n",
    "    print(\"Element not found\")\n",
    "\n",
    "\n",
    "    \n",
    "\n",
    "    "
   ]
  },
  {
   "cell_type": "code",
   "execution_count": null,
   "metadata": {},
   "outputs": [],
   "source": []
  }
 ],
 "metadata": {
  "kernelspec": {
   "display_name": "Python 3",
   "language": "python",
   "name": "python3"
  },
  "language_info": {
   "codemirror_mode": {
    "name": "ipython",
    "version": 3
   },
   "file_extension": ".py",
   "mimetype": "text/x-python",
   "name": "python",
   "nbconvert_exporter": "python",
   "pygments_lexer": "ipython3",
   "version": "3.7.4"
  }
 },
 "nbformat": 4,
 "nbformat_minor": 2
}
