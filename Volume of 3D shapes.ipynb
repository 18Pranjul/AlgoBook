{
 "cells": [
  {
   "cell_type": "code",
   "execution_count": 5,
   "metadata": {},
   "outputs": [],
   "source": [
    "import math"
   ]
  },
  {
   "cell_type": "code",
   "execution_count": 22,
   "metadata": {},
   "outputs": [
    {
     "name": "stdout",
     "output_type": "stream",
     "text": [
      "*****Volume of the Cube*****\n",
      "\n",
      "Enter the edge of the cube5\n",
      "Volume of the cube of side =  5.0  is  125.0\n"
     ]
    }
   ],
   "source": [
    "print(\"*****Volume of the Cube*****\\n\")\n",
    "side=float(input(\"Enter the edge of the cube\"))\n",
    "volume = side**3\n",
    "print(\"Volume of the cube of side = \",side,\" is \" ,volume,)"
   ]
  },
  {
   "cell_type": "code",
   "execution_count": 3,
   "metadata": {},
   "outputs": [
    {
     "name": "stdout",
     "output_type": "stream",
     "text": [
      "*****Volume of Cuboid*****\n",
      "Enter the length of the cuboid5\n",
      "Enter the breadth of the cuboid6\n",
      "Enter the height of the cuboid2\n",
      "Volume of the cuboid of length =  5  breadth =  6  height =  2  is  60\n"
     ]
    }
   ],
   "source": [
    "print(\"*****Volume of Cuboid*****\\n\")\n",
    "length=float(input(\"Enter the length of the cuboid\"))\n",
    "breadth=float(input(\"Enter the breadth of the cuboid\"))\n",
    "height=float(input(\"Enter the height of the cuboid\"))\n",
    "volume=length * breadth * height\n",
    "print(\"Volume of the cuboid of length = \",length,\", breadth = \",breadth,\", height = \",height,\" is \" ,volume)"
   ]
  },
  {
   "cell_type": "code",
   "execution_count": 9,
   "metadata": {},
   "outputs": [
    {
     "name": "stdout",
     "output_type": "stream",
     "text": [
      "*****Volume of cone*****\n",
      "Enter the radius of the cone5\n",
      "Enter the height of the cone2\n",
      "Volume of cone of radius =  5 , height =  2  is  52.36\n"
     ]
    }
   ],
   "source": [
    "print(\"*****Volume of cone*****\\n\")\n",
    "radius = float(input(\"Enter the radius of the cone\"))\n",
    "height = float(input(\"Enter the height of the cone\"))\n",
    "volume = round((((math.pi)*(radius**2)*height)/3),2)\n",
    "print(\"Volume of cone of radius = \",radius,\", height = \", height, \" is \", volume)\n"
   ]
  },
  {
   "cell_type": "code",
   "execution_count": 10,
   "metadata": {},
   "outputs": [
    {
     "name": "stdout",
     "output_type": "stream",
     "text": [
      "*****Volume of right circular cone*****\n",
      "Enter the radius of the right circular cone5\n",
      "Enter the height of the right circular cone2\n",
      "Volume of right circular cone of radius =  5 , height =  2  is  52.36\n"
     ]
    }
   ],
   "source": [
    "print(\"*****Volume of right circular cone*****\\n\")\n",
    "radius = float(input(\"Enter the radius of the right circular cone\"))\n",
    "height = float(input(\"Enter the height of the right circular cone\"))\n",
    "volume = round((((math.pi)*(radius**2)*height)/3),2)\n",
    "print(\"Volume of right circular cone of radius = \",radius,\", height = \", height, \" is \", volume)"
   ]
  },
  {
   "cell_type": "code",
   "execution_count": 19,
   "metadata": {},
   "outputs": [
    {
     "name": "stdout",
     "output_type": "stream",
     "text": [
      "*****Volume of a prism*****\n",
      "Enter the length of the base9\n",
      "Enter the breadth of the base7\n",
      "Enter the height of the prism13\n",
      "Volume of prism of base area = 63.0 , height =  13.0  is  819.0\n"
     ]
    }
   ],
   "source": [
    "print(\"*****Volume of a prism*****\\n\")\n",
    "base_length = float(input(\"Enter the length of the base\"))\n",
    "base_breadth = float(input(\"Enter the breadth of the base\"))\n",
    "height = float(input(\"Enter the height of the prism\"))\n",
    "base_area = base_length * base_breadth\n",
    "volume = base_area * height\n",
    "print(\"Volume of prism of base area =\",base_area,\", height = \",height, \" is \",volume)"
   ]
  },
  {
   "cell_type": "code",
   "execution_count": 23,
   "metadata": {},
   "outputs": [
    {
     "name": "stdout",
     "output_type": "stream",
     "text": [
      "*****Volume of different types of pyramid*****\n",
      "\n",
      "Enter the apothem length of the pyramid2\n",
      "Enter the base length of the pyramid4\n",
      "Enter the height of the pyramid9\n",
      "Volume of a square pyramid of base =  4.0 , height =  9.0  is  48.0\n",
      "Volume of a triangular pyramid of apothem =  2.0 , base =  4.0 , height =  9.0  is  12.0\n",
      "Volume of a pentagonal pyramid of apothem =  2.0 , base =  4.0 , height =  9.0  is  60.0\n",
      "Volume of a hexagonal pyramid of apothem =  2.0 , base =  4.0 , height =  9.0  is  72.0\n"
     ]
    }
   ],
   "source": [
    "print(\"*****Volume of different types of pyramid*****\\n\")\n",
    "apothem = float(input(\"Enter the apothem length of the pyramid\"))\n",
    "base = float(input(\"Enter the base length of the pyramid\"))\n",
    "height = float(input(\"Enter the height of the pyramid\"))\n",
    "volume_square = ((base**2)*height)/3\n",
    "volume_triangle = (apothem * base * height)/6\n",
    "volume_pentagon = (5 * apothem * base * height)/6\n",
    "volume_hexagon = apothem * base * height\n",
    "\n",
    "print(\"Volume of a square pyramid of base = \",base,\", height = \",height, \" is \", volume_square)\n",
    "print(\"Volume of a triangular pyramid of apothem = \", apothem, \", base = \",base,\", height = \",height, \" is \", volume_triangle)\n",
    "print(\"Volume of a pentagonal pyramid of apothem = \", apothem, \", base = \",base,\", height = \",height, \" is \", volume_pentagon)\n",
    "print(\"Volume of a hexagonal pyramid of apothem = \", apothem, \", base = \",base,\", height = \",height, \" is \", volume_hexagon)"
   ]
  },
  {
   "cell_type": "code",
   "execution_count": 25,
   "metadata": {},
   "outputs": [
    {
     "name": "stdout",
     "output_type": "stream",
     "text": [
      "*****Volume of Sphere*****\n",
      "\n",
      "Enter the radius of the sphere5\n",
      "Volume of the sphere of radius =  5.0  is  524\n"
     ]
    }
   ],
   "source": [
    "print(\"*****Volume of Sphere*****\\n\")\n",
    "radius = float(input(\"Enter the radius of the sphere\"))\n",
    "volume = round((4 * (math.pi) * (radius**3))/3)\n",
    "print(\"Volume of the sphere of radius = \",radius,\" is \",volume)"
   ]
  },
  {
   "cell_type": "code",
   "execution_count": 27,
   "metadata": {},
   "outputs": [
    {
     "name": "stdout",
     "output_type": "stream",
     "text": [
      "*****Volume of circular cylinder*****\n",
      "\n",
      "Enter the radius of the circular cylinder20\n",
      "Enter the height of the circular cylinder30\n",
      "Volume of the circular cylinder of radius =  20.0 , height =  30.0  is  37699\n"
     ]
    }
   ],
   "source": [
    "print(\"*****Volume of circular cylinder*****\\n\")\n",
    "radius = float(input(\"Enter the radius of the circular cylinder\"))\n",
    "height = float(input(\"Enter the height of the circular cylinder\"))\n",
    "volume = round((math.pi) * (radius**2) * height)\n",
    "print(\"Volume of the circular cylinder of radius = \",radius,\", height = \",height,\" is \",volume)"
   ]
  },
  {
   "cell_type": "code",
   "execution_count": null,
   "metadata": {},
   "outputs": [],
   "source": []
  }
 ],
 "metadata": {
  "kernelspec": {
   "display_name": "Python 3",
   "language": "python",
   "name": "python3"
  },
  "language_info": {
   "codemirror_mode": {
    "name": "ipython",
    "version": 3
   },
   "file_extension": ".py",
   "mimetype": "text/x-python",
   "name": "python",
   "nbconvert_exporter": "python",
   "pygments_lexer": "ipython3",
   "version": "3.7.4"
  }
 },
 "nbformat": 4,
 "nbformat_minor": 2
}
